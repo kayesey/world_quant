{
 "cells": [
  {
   "cell_type": "code",
   "execution_count": 2,
   "metadata": {},
   "outputs": [
    {
     "name": "stdout",
     "output_type": "stream",
     "text": [
      "Duration is 1.6689300537109375e-06 seconds\n",
      "Duration is 1.1920928955078125e-06 seconds\n"
     ]
    }
   ],
   "source": [
    "import time as program_time\n",
    "\n",
    "def cube(number):\n",
    "    start_time = program_time.time()\n",
    "    #A function to cube a number\n",
    "    print('Duration is {} seconds'.format(program_time.time() - start_time))\n",
    "    return number ** 3\n",
    "\n",
    "cube(3)\n",
    "\n",
    "assert cube(5) == 125"
   ]
  },
  {
   "cell_type": "code",
   "execution_count": 3,
   "metadata": {},
   "outputs": [
    {
     "name": "stdout",
     "output_type": "stream",
     "text": [
      "Hello Seyram Kwame Attah\n",
      "Duration is 0.000301361083984375 seconds\n"
     ]
    }
   ],
   "source": [
    "import time as prg_time\n",
    "def say_hello(strName):\n",
    "    start_time = prg_time.time()\n",
    "    print('Hello {}'.format(strName))\n",
    "    print('Duration is {} seconds'.format(prg_time.time() - start_time))\n",
    "    \n",
    "say_hello('Seyram Kwame Attah')\n"
   ]
  },
  {
   "cell_type": "code",
   "execution_count": 4,
   "metadata": {},
   "outputs": [],
   "source": [
    "def do_it(values):\n",
    "    sqr_values = (values ** 2 + 2) **2\n",
    "    print(sqr_values)\n"
   ]
  },
  {
   "cell_type": "code",
   "execution_count": 60,
   "metadata": {},
   "outputs": [
    {
     "name": "stdout",
     "output_type": "stream",
     "text": [
      "9\n",
      "36\n",
      "121\n",
      "324\n",
      "729\n",
      "1444\n",
      "2601\n",
      "4356\n",
      "6889\n"
     ]
    }
   ],
   "source": [
    "do_it(1)\n",
    "do_it(2)\n",
    "do_it(3)\n",
    "do_it(4)\n",
    "do_it(5)\n",
    "do_it(6)\n",
    "do_it(7)\n",
    "do_it(8)\n",
    "do_it(9)"
   ]
  },
  {
   "cell_type": "code",
   "execution_count": 36,
   "metadata": {},
   "outputs": [
    {
     "data": {
      "text/plain": [
       "True"
      ]
     },
     "execution_count": 36,
     "metadata": {},
     "output_type": "execute_result"
    }
   ],
   "source": [
    "def greater_than_10(intNumber):\n",
    "    if (intNumber > 10 and intNumber <20) or intNumber <-100:\n",
    "        return True\n",
    "    return False\n",
    "\n",
    "greater_than_10(11)"
   ]
  },
  {
   "cell_type": "code",
   "execution_count": 3,
   "metadata": {},
   "outputs": [
    {
     "name": "stdout",
     "output_type": "stream",
     "text": [
      "[3, 5, 7, 11, 13, 17, 19, 23, 29, 31, 37, 41, 43, 47, 53, 59, 61]\n"
     ]
    }
   ],
   "source": [
    "def mersenne_number(p): \n",
    "    n = (pow(2,p)-1) \n",
    "    return n\n",
    "\n",
    "mersenne_number_prime_list = []\n",
    "mersennes = []\n",
    "\n",
    "def is_prime(number):\n",
    "    if number <= 1:\n",
    "        return False\n",
    "\n",
    "    for factor in range(2, number):\n",
    "        if number % factor == 0:\n",
    "            return False\n",
    "\n",
    "    return True\n",
    "\n",
    "def get_primes(n):\n",
    "    for number in range(3, n):\n",
    "        if is_prime(number):\n",
    "            mersennes.append(number)\n",
    "            mersenne_number_prime_list.append(mersenne_number(number))\n",
    "\n",
    "get_primes(65)\n",
    "\n",
    "print(mersennes)"
   ]
  },
  {
   "cell_type": "code",
   "execution_count": null,
   "metadata": {},
   "outputs": [],
   "source": []
  }
 ],
 "metadata": {
  "kernelspec": {
   "display_name": "Python 3",
   "language": "python",
   "name": "python3"
  },
  "language_info": {
   "codemirror_mode": {
    "name": "ipython",
    "version": 3
   },
   "file_extension": ".py",
   "mimetype": "text/x-python",
   "name": "python",
   "nbconvert_exporter": "python",
   "pygments_lexer": "ipython3",
   "version": "3.7.3"
  }
 },
 "nbformat": 4,
 "nbformat_minor": 2
}
