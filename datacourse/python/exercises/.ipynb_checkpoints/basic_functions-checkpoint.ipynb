{
 "cells": [
  {
   "cell_type": "code",
   "execution_count": 40,
   "metadata": {},
   "outputs": [
    {
     "name": "stdout",
     "output_type": "stream",
     "text": [
      "Duration is 1.430511474609375e-06 seconds\n",
      "Duration is 1.1920928955078125e-06 seconds\n"
     ]
    }
   ],
   "source": [
    "import time as program_time\n",
    "\n",
    "def cube(number):\n",
    "    start_time = program_time.time()\n",
    "    #A function to cube a number\n",
    "    print('Duration is {} seconds'.format(program_time.time() - start_time))\n",
    "    return number ** 3\n",
    "\n",
    "cube(3)\n",
    "\n",
    "assert cube(5) == 125"
   ]
  },
  {
   "cell_type": "code",
   "execution_count": 47,
   "metadata": {},
   "outputs": [
    {
     "name": "stdout",
     "output_type": "stream",
     "text": [
      "Hello Seyram Kwame Attah\n",
      "Duration is 0.0002753734588623047 seconds\n"
     ]
    }
   ],
   "source": [
    "import time as prg_time\n",
    "def say_hello(strName):\n",
    "    start_time = prg_time.time()\n",
    "    print('Hello {}'.format(strName))\n",
    "    print('Duration is {} seconds'.format(prg_time.time() - start_time))\n",
    "    \n",
    "say_hello('Seyram Kwame Attah')\n"
   ]
  },
  {
   "cell_type": "code",
   "execution_count": 48,
   "metadata": {},
   "outputs": [],
   "source": [
    "def do_it(values):\n",
    "    sqr_values = values ** 2\n",
    "    print(sqr_values)\n"
   ]
  },
  {
   "cell_type": "code",
   "execution_count": null,
   "metadata": {},
   "outputs": [],
   "source": []
  }
 ],
 "metadata": {
  "kernelspec": {
   "display_name": "Python 3",
   "language": "python",
   "name": "python3"
  },
  "language_info": {
   "codemirror_mode": {
    "name": "ipython",
    "version": 3
   },
   "file_extension": ".py",
   "mimetype": "text/x-python",
   "name": "python",
   "nbconvert_exporter": "python",
   "pygments_lexer": "ipython3",
   "version": "3.7.3"
  }
 },
 "nbformat": 4,
 "nbformat_minor": 2
}
